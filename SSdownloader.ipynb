{
  "nbformat": 4,
  "nbformat_minor": 0,
  "metadata": {
    "colab": {
      "name": "SSdownloader.ipynb",
      "provenance": [],
      "toc_visible": true,
      "authorship_tag": "ABX9TyM01CN7YtCKjWHAvQcS9A7j",
      "include_colab_link": true
    },
    "kernelspec": {
      "name": "python3",
      "display_name": "Python 3"
    },
    "language_info": {
      "name": "python"
    },
    "widgets": {
      "application/vnd.jupyter.widget-state+json": {
        "4e4353361bf549ceaa4cbda08b81e521": {
          "model_module": "@jupyter-widgets/controls",
          "model_name": "ButtonModel",
          "state": {
            "_view_name": "ButtonView",
            "style": "IPY_MODEL_1d5330b4891b43faacc50ae740fcdcdb",
            "_dom_classes": [],
            "description": "Installing",
            "_model_name": "ButtonModel",
            "button_style": "warning",
            "_view_module": "@jupyter-widgets/controls",
            "_model_module_version": "1.5.0",
            "tooltip": "Installing",
            "_view_count": null,
            "disabled": true,
            "_view_module_version": "1.5.0",
            "layout": "IPY_MODEL_867b5a5627a84d75b7f6729a2ffd315e",
            "_model_module": "@jupyter-widgets/controls",
            "icon": "check"
          }
        },
        "1d5330b4891b43faacc50ae740fcdcdb": {
          "model_module": "@jupyter-widgets/controls",
          "model_name": "ButtonStyleModel",
          "state": {
            "_view_name": "StyleView",
            "_model_name": "ButtonStyleModel",
            "_view_module": "@jupyter-widgets/base",
            "_model_module_version": "1.5.0",
            "_view_count": null,
            "button_color": null,
            "font_weight": "",
            "_view_module_version": "1.2.0",
            "_model_module": "@jupyter-widgets/controls"
          }
        },
        "867b5a5627a84d75b7f6729a2ffd315e": {
          "model_module": "@jupyter-widgets/base",
          "model_name": "LayoutModel",
          "state": {
            "_view_name": "LayoutView",
            "grid_template_rows": null,
            "right": null,
            "justify_content": null,
            "_view_module": "@jupyter-widgets/base",
            "overflow": null,
            "_model_module_version": "1.2.0",
            "_view_count": null,
            "flex_flow": null,
            "width": null,
            "min_width": null,
            "border": null,
            "align_items": null,
            "bottom": null,
            "_model_module": "@jupyter-widgets/base",
            "top": null,
            "grid_column": null,
            "overflow_y": null,
            "overflow_x": null,
            "grid_auto_flow": null,
            "grid_area": null,
            "grid_template_columns": null,
            "flex": null,
            "_model_name": "LayoutModel",
            "justify_items": null,
            "grid_row": null,
            "max_height": null,
            "align_content": null,
            "visibility": null,
            "align_self": null,
            "height": null,
            "min_height": null,
            "padding": null,
            "grid_auto_rows": null,
            "grid_gap": null,
            "max_width": null,
            "order": null,
            "_view_module_version": "1.2.0",
            "grid_template_areas": null,
            "object_position": null,
            "object_fit": null,
            "grid_auto_columns": null,
            "margin": null,
            "display": null,
            "left": null
          }
        }
      }
    }
  },
  "cells": [
    {
      "cell_type": "markdown",
      "metadata": {
        "id": "view-in-github",
        "colab_type": "text"
      },
      "source": [
        "<a href=\"https://colab.research.google.com/github/RedaElmar/SScourses-DL/blob/main/SSdownloader.ipynb\" target=\"_parent\"><img src=\"https://colab.research.google.com/assets/colab-badge.svg\" alt=\"Open In Colab\"/></a>"
      ]
    },
    {
      "cell_type": "code",
      "metadata": {
        "colab": {
          "base_uri": "https://localhost:8080/"
        },
        "cellView": "form",
        "id": "t0Pm0ov8o0Qi",
        "outputId": "c1c1e6ca-aeb0-4be3-b698-8051c8e9aff9"
      },
      "source": [
        "#@markdown <h3>⬅ Run This Cell to  Mount Gdrive\n",
        "from google.colab import drive\n",
        "drive.mount('/content/drive')"
      ],
      "execution_count": 1,
      "outputs": [
        {
          "output_type": "stream",
          "text": [
            "Mounted at /content/drive\n"
          ],
          "name": "stdout"
        }
      ]
    },
    {
      "cell_type": "code",
      "metadata": {
        "cellView": "form",
        "id": "e08atEeLo1Ye"
      },
      "source": [
        "#@markdown <h3>⬅ Run This Cell to  Enter AccesKey\n",
        "cookie = \"_uetvid=bb4ab1c09eae11ebbdc7752821330626; fbm_169419436428655=base_domain=.skillshare.com; IR_gbd=skillshare.com; PHPSESSID=0b2cc9da037bda4c815201d617ab1fc8; visitor_tracking=utm_campaign%3Dwebsite%26utm_source%3DProduct%20Email%26utm_medium%3Demail%26utm_term%3D%26referrer%3D%26referring_username%3D; YII_CSRF_TOKEN=bVBWT095VGxqY3BOWUlCblJaN3V6YUdISTVZTmNKWkNR0JfbF_6d2YkL_c4U96BKkWOVH9B2I7tDLbztQo3y7g%3D%3D; __utmc=99704988; ss_hide_default_banner=1618576008.338; _sctr=1|1618511400000; __stripe_mid=a971e3fa-016a-4adc-b766-bd7e4689b77968ffe8; _derived_epik=dj0yJnU9d3Njd3BNU3Vwa09CaUNhbXB1OGk4VTRkNElZVXVrMWEmbj1BVmp4QWVDVUFvOXpmWlZ4aHhEMmZRJm09MSZ0PUFBQUFBR0I1aEpvJnJtPTEmcnQ9QUFBQUFHQjVoSm8; IR_PI=f15ec55f-9eae-11eb-a054-0244022380e2%7C1619187470277; __utma=99704988.1787755299.1618575888.1619097533.1619100321.5; show-like-copy=0; __ssid=b6eb7caba63cf843646795b139582c6; __cfduid=d6330827eb61eac2ac9883c9f8ee9281c1618575884; __pdst=d3566edc6790444b8a432517841997b7; __pdst=3e70c96b37be401698cacefdf158389e; __qca=P0-2044824998-1618575889659; __utmv=99704988.|1=visitor-type=user=1; __utmz=99704988.1618575888.1.1.utmcsr=onehack.us|utmccn=(referral)|utmcmd=referral|utmcct=/; _ga=GA1.2.1787755299.1618575888; _gcl_au=1.1.2065775968.1618575886; _pin_unauth=dWlkPVpXRXhPV1ZqWkRZdFpUQXlZaTAwTVRFMExXRTFORGt0WWpaa1lqQXdPVFF3Tm1SaA; _scid=1ef49e41-1f87-4056-b707-8ea77cc7fed2; device_session_id=dd39b5eb-4fea-42e3-90d5-5ac2fca7835b; dismiss_transcripts_tooltip=1; first_landing=utm_campaign%3D%26utm_source%3D%26utm_medium%3D%26utm_term%3D%26referrer%3Dhttps%3A%2F%2Fwww.skillshare.com%2Fhome%3Fvia%3Dheader%26referring_username%3D; first_landing=utm_campaign%3D%26utm_source%3D%26utm_medium%3D%26utm_term%3D%26referrer%3Dhttps%3A%2F%2Fonehack.us%2F%26referring_username%3D; G_ENABLED_IDPS=google; g_state={\\\\\\\"i_p\\\\\\\":1619104739852,\\\\\\\"i_l\\\\\\\":1}; IR_4650=1619101070277%7C0%7C1619101070277%7C%7C; show-like-copy=1; sm_uuid=1618576257503; visitor_tracking=utm_campaign%3Dwebsite%26utm_source%3DProduct%20Email%26utm_medium%3Demail%26utm_term%3D%26referrer%3D%26referring_username%3D; __stripe_sid=3789e742-9a10-4b31-a7dc-a420ce5cae24ce2d0b; ubvt=185.209.179.2041619608850278493; PHPSESSID=18a17911acb1aa8a27b7c6aa16b35290\" #@param {type:\"string\"}\n"
      ],
      "execution_count": null,
      "outputs": []
    },
    {
      "cell_type": "markdown",
      "metadata": {
        "id": "UdKjsLhoo9Ol"
      },
      "source": [
        "# <img src='https://i.imgur.com/ZLv9ul7.jpg' height=\"190\" alt=\"RcloneLab\"/>"
      ]
    },
    {
      "cell_type": "code",
      "metadata": {
        "colab": {
          "base_uri": "https://localhost:8080/",
          "height": 81,
          "referenced_widgets": [
            "4e4353361bf549ceaa4cbda08b81e521",
            "1d5330b4891b43faacc50ae740fcdcdb",
            "867b5a5627a84d75b7f6729a2ffd315e"
          ]
        },
        "cellView": "form",
        "id": "Vd0yJAmco48c",
        "outputId": "220aa76a-b35c-430b-904d-07e2f77f1b72"
      },
      "source": [
        "#@markdown <h3>⬅️ Run This Cell to Install Requirements</h3>\n",
        "import random, string, urllib.request, json, getpass, os, IPython, uuid\n",
        "import ipywidgets as widgets\n",
        "\n",
        "from IPython.display import HTML, clear_output\n",
        "\n",
        "loadingBtn = widgets.Button(description = \"Installing\",\n",
        "                          disabled = True,\n",
        "                          button_style = 'warning', # 'success', 'info', 'warning', 'danger' or '' \n",
        "                          tooltip = \"Installing\",\n",
        "                          icon = 'check')\n",
        "display(loadingBtn)\n",
        "\n",
        "if not os.path.exists(\"/opt/python3.7\"):\n",
        "  get_ipython().system_raw(\"rm -rf /content/sample_data/ && sudo apt update && sudo apt install software-properties-common\")\n",
        "  get_ipython().system_raw(\"sudo add-apt-repository ppa:deadsnakes/ppa\")\n",
        "  get_ipython().system_raw(\"sudo apt install python3.7\")\n",
        "  get_ipython().system_raw(\"sudo apt install python3-pip\")\n",
        "  get_ipython().system_raw(\"python3.7 -m pip install --upgrade pip setuptools wheel\")\n",
        "  get_ipython().system_raw(\"git clone https://github.com/RedaElmar/SScourses-DL.git /root/.SScourses-DL\")\n",
        "  get_ipython().system_raw(\"rm -r /root/.SScourses-DL/SSnotebook.ipynb\")\n",
        "  clear_output()\n",
        "\n",
        "try:\n",
        "  get_ipython().system_raw(\"python3.7 -m pip -q install -r /root/.SScourses-DL/requirements.txt\")\n",
        "  display(HTML(\"<center><h2 style=\\\"font-family:Trebuchet MS;color:#4f8bd6;\\\">Successfully Configured!</h2><br></center>\"))\n",
        "  \n",
        "except:\n",
        "  display(HTML(\"<center><h2 style=\\\"font-family:Trebuchet MS;color:#ff0000;\\\">Error Occured, Rerun the Cell!!</h2><br></center>\"))"
      ],
      "execution_count": 1,
      "outputs": [
        {
          "output_type": "display_data",
          "data": {
            "text/html": [
              "<center><h2 style=\"font-family:Trebuchet MS;color:#4f8bd6;\">Successfully Configured!</h2><br></center>"
            ],
            "text/plain": [
              "<IPython.core.display.HTML object>"
            ]
          },
          "metadata": {
            "tags": []
          }
        }
      ]
    },
    {
      "cell_type": "code",
      "metadata": {
        "colab": {
          "base_uri": "https://localhost:8080/"
        },
        "cellView": "form",
        "id": "egkRBWPtpcuf",
        "outputId": "056abc6b-4c2a-403d-e346-43d5593b34a6"
      },
      "source": [
        "#@markdown <h3>⬅️ Run this Cell to Download Skillshare Course</h3>\n",
        "Course_Link = \"https://www.skillshare.com/classes/Essentials-of-Data-Science/1521508928?via=similar-classes\" #@param {type:\"string\"}\n",
        "!python3.7 /root/.SScourses-DL/dl.py \"$Course_Link\""
      ],
      "execution_count": 2,
      "outputs": [
        {
          "output_type": "stream",
          "text": [
            "Traceback (most recent call last):\n",
            "  File \"/root/.SScourses-DL/dl.py\", line 9, in <module>\n",
            "    splash()\n",
            "NameError: name 'splash' is not defined\n"
          ],
          "name": "stdout"
        }
      ]
    }
  ]
}