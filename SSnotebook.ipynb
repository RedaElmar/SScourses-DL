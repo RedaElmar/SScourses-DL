{
  "nbformat": 4,
  "nbformat_minor": 0,
  "metadata": {
    "colab": {
      "name": "Untitled15.ipynb",
      "provenance": [],
      "authorship_tag": "ABX9TyPSk3+7Qwn3pYaMUqJE++Fu",
      "include_colab_link": true
    },
    "kernelspec": {
      "name": "python3",
      "display_name": "Python 3"
    },
    "language_info": {
      "name": "python"
    }
  },
  "cells": [
    {
      "cell_type": "markdown",
      "metadata": {
        "id": "view-in-github",
        "colab_type": "text"
      },
      "source": [
        "<a href=\"https://colab.research.google.com/github/RedaElmar/SScourses-DL/blob/main/SSnotebook.ipynb\" target=\"_parent\"><img src=\"https://colab.research.google.com/assets/colab-badge.svg\" alt=\"Open In Colab\"/></a>"
      ]
    },
    {
      "cell_type": "code",
      "metadata": {
        "id": "t0Pm0ov8o0Qi"
      },
      "source": [
        "#@markdown <h3>⬅ Run This Cell to  Mount Gdrive\n",
        "from google.colab import drive\n",
        "drive.mount('/content/drive')"
      ],
      "execution_count": null,
      "outputs": []
    },
    {
      "cell_type": "code",
      "metadata": {
        "id": "e08atEeLo1Ye"
      },
      "source": [
        "#@markdown <h3>⬅ Run This Cell to  Enter AccesKey\n",
        "cookie = \"Shared in the group\" #@param {type:\"string\"}\n"
      ],
      "execution_count": null,
      "outputs": []
    },
    {
      "cell_type": "markdown",
      "metadata": {
        "id": "UdKjsLhoo9Ol"
      },
      "source": [
        "# <img src='https://i.imgur.com/ZLv9ul7.jpg' height=\"190\" alt=\"RcloneLab\"/>"
      ]
    },
    {
      "cell_type": "code",
      "metadata": {
        "id": "Vd0yJAmco48c"
      },
      "source": [
        "#@markdown <h3>⬅️ Run This Cell to Install Requirements</h3>\n",
        "import random, string, urllib.request, json, getpass, os, IPython, uuid\n",
        "import ipywidgets as widgets\n",
        "\n",
        "from IPython.display import HTML, clear_output\n",
        "\n",
        "loadingBtn = widgets.Button(description = \"Installing\",\n",
        "                          disabled = True,\n",
        "                          button_style = 'warning', # 'success', 'info', 'warning', 'danger' or '' \n",
        "                          tooltip = \"Installing\",\n",
        "                          icon = 'check')\n",
        "display(loadingBtn)\n",
        "\n",
        "if not os.path.exists(\"/opt/python3.7\"):\n",
        "  get_ipython().system_raw(\"rm -rf /content/sample_data/ && sudo apt update && sudo apt install software-properties-common\")\n",
        "  get_ipython().system_raw(\"sudo add-apt-repository ppa:deadsnakes/ppa\")\n",
        "  get_ipython().system_raw(\"sudo apt install python3.7\")\n",
        "  get_ipython().system_raw(\"sudo apt install python3-pip\")\n",
        "  get_ipython().system_raw(\"python3.7 -m pip install --upgrade pip setuptools wheel\")\n",
        "  get_ipython().system_raw(\"git clone https://github.com/RedaElmar/SScourses-DL.git /root/.SScourses-DL\")\n",
        "  get_ipython().system_raw(\"rm -r /root/.SScourses-DL/SSnotebook.ipynb\")\n",
        "  clear_output()\n",
        "\n",
        "try:\n",
        "  get_ipython().system_raw(\"python3.7 -m pip -q install -r /root/.SScourses-DL/requirements.txt\")\n",
        "  display(HTML(\"<center><h2 style=\\\"font-family:Trebuchet MS;color:#4f8bd6;\\\">Successfully Configured!</h2><br></center>\"))\n",
        "  \n",
        "except:\n",
        "  display(HTML(\"<center><h2 style=\\\"font-family:Trebuchet MS;color:#ff0000;\\\">Error Occured, Rerun the Cell!!</h2><br></center>\"))"
      ],
      "execution_count": null,
      "outputs": []
    },
    {
      "cell_type": "code",
      "metadata": {
        "id": "egkRBWPtpcuf"
      },
      "source": [
        "#@markdown <h3>⬅️ Run this Cell to Download Skillshare Course</h3>\n",
        "Course_Link = \"\" #@param {type:\"string\"}\n",
        "!python3.7 /root/.SScourses-DL/dl.py \"$Course_Link\""
      ],
      "execution_count": null,
      "outputs": []
    }
  ]
}