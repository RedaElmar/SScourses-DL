{
  "nbformat": 4,
  "nbformat_minor": 0,
  "metadata": {
    "colab": {
      "name": "SSdownloader.ipynb",
      "provenance": [],
      "toc_visible": true,
      "authorship_tag": "ABX9TyNAkDhFOFJI8HXSylrJvdsc",
      "include_colab_link": true
    },
    "kernelspec": {
      "name": "python3",
      "display_name": "Python 3"
    },
    "language_info": {
      "name": "python"
    }
  },
  "cells": [
    {
      "cell_type": "markdown",
      "metadata": {
        "id": "view-in-github",
        "colab_type": "text"
      },
      "source": [
        "<a href=\"https://colab.research.google.com/github/RedaElmar/SScourses-DL/blob/main/SSnotebook.ipynb\" target=\"_parent\"><img src=\"https://colab.research.google.com/assets/colab-badge.svg\" alt=\"Open In Colab\"/></a>"
      ]
    },
    {
      "cell_type": "markdown",
      "metadata": {
        "id": "5GcnxzjXtfZp"
      },
      "source": [
        "# <img src='data:image/png;base64,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' height=\"40\" alt=\"RcloneLab\"/>"
      ]
    },
    {
      "cell_type": "code",
      "metadata": {
        "cellView": "form",
        "id": "t0Pm0ov8o0Qi"
      },
      "source": [
        "#@markdown <h3>⬅ Run This Cell to  Mount Gdrive\n",
        "from google.colab import drive\n",
        "drive.mount('/content/drive')"
      ],
      "execution_count": null,
      "outputs": []
    },
    {
      "cell_type": "markdown",
      "metadata": {
        "id": "UdKjsLhoo9Ol"
      },
      "source": [
        "# <img src='data:image/png;base64,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' height=\"120\" alt=\"RcloneLab\"/>"
      ]
    },
    {
      "cell_type": "code",
      "metadata": {
        "id": "e08atEeLo1Ye",
        "cellView": "form"
      },
      "source": [
        "#@markdown <h3>⬅ Run This Cell to  Enter AccesKey (Provided)\n",
        "cookie = \"_uetvid=bb4ab1c09eae11ebbdc7752821330626; fbm_169419436428655=base_domain=.skillshare.com; IR_gbd=skillshare.com; PHPSESSID=0b2cc9da037bda4c815201d617ab1fc8; visitor_tracking=utm_campaign%3Dwebsite%26utm_source%3DProduct%20Email%26utm_medium%3Demail%26utm_term%3D%26referrer%3D%26referring_username%3D; YII_CSRF_TOKEN=bVBWT095VGxqY3BOWUlCblJaN3V6YUdISTVZTmNKWkNR0JfbF_6d2YkL_c4U96BKkWOVH9B2I7tDLbztQo3y7g%3D%3D; __utmc=99704988; ss_hide_default_banner=1618576008.338; _sctr=1|1618511400000; __stripe_mid=a971e3fa-016a-4adc-b766-bd7e4689b77968ffe8; _derived_epik=dj0yJnU9d3Njd3BNU3Vwa09CaUNhbXB1OGk4VTRkNElZVXVrMWEmbj1BVmp4QWVDVUFvOXpmWlZ4aHhEMmZRJm09MSZ0PUFBQUFBR0I1aEpvJnJtPTEmcnQ9QUFBQUFHQjVoSm8; IR_PI=f15ec55f-9eae-11eb-a054-0244022380e2%7C1619187470277; __utma=99704988.1787755299.1618575888.1619097533.1619100321.5; show-like-copy=0; __ssid=b6eb7caba63cf843646795b139582c6; __cfduid=d6330827eb61eac2ac9883c9f8ee9281c1618575884; __pdst=d3566edc6790444b8a432517841997b7; __pdst=3e70c96b37be401698cacefdf158389e; __qca=P0-2044824998-1618575889659; __utmv=99704988.|1=visitor-type=user=1; __utmz=99704988.1618575888.1.1.utmcsr=onehack.us|utmccn=(referral)|utmcmd=referral|utmcct=/; _ga=GA1.2.1787755299.1618575888; _gcl_au=1.1.2065775968.1618575886; _pin_unauth=dWlkPVpXRXhPV1ZqWkRZdFpUQXlZaTAwTVRFMExXRTFORGt0WWpaa1lqQXdPVFF3Tm1SaA; _scid=1ef49e41-1f87-4056-b707-8ea77cc7fed2; device_session_id=dd39b5eb-4fea-42e3-90d5-5ac2fca7835b; dismiss_transcripts_tooltip=1; first_landing=utm_campaign%3D%26utm_source%3D%26utm_medium%3D%26utm_term%3D%26referrer%3Dhttps%3A%2F%2Fwww.skillshare.com%2Fhome%3Fvia%3Dheader%26referring_username%3D; first_landing=utm_campaign%3D%26utm_source%3D%26utm_medium%3D%26utm_term%3D%26referrer%3Dhttps%3A%2F%2Fonehack.us%2F%26referring_username%3D; G_ENABLED_IDPS=google; g_state={\\\\\\\"i_p\\\\\\\":1619104739852,\\\\\\\"i_l\\\\\\\":1}; IR_4650=1619101070277%7C0%7C1619101070277%7C%7C; show-like-copy=1; sm_uuid=1618576257503; visitor_tracking=utm_campaign%3Dwebsite%26utm_source%3DProduct%20Email%26utm_medium%3Demail%26utm_term%3D%26referrer%3D%26referring_username%3D; __stripe_sid=3789e742-9a10-4b31-a7dc-a420ce5cae24ce2d0b; ubvt=185.209.179.2041619608850278493; PHPSESSID=18a17911acb1aa8a27b7c6aa16b35290\" #@param {type:\"string\"}\n"
      ],
      "execution_count": null,
      "outputs": []
    },
    {
      "cell_type": "code",
      "metadata": {
        "cellView": "form",
        "id": "Vd0yJAmco48c"
      },
      "source": [
        "#@markdown <h3>⬅️ Run This Cell to Install Requirements</h3>\n",
        "import random, string, urllib.request, json, getpass, os, IPython, uuid\n",
        "import ipywidgets as widgets\n",
        "\n",
        "from IPython.display import HTML, clear_output\n",
        "\n",
        "loadingBtn = widgets.Button(description = \"Installing\",\n",
        "                          disabled = True,\n",
        "                          button_style = 'warning', # 'success', 'info', 'warning', 'danger' or '' \n",
        "                          tooltip = \"Installing\",\n",
        "                          icon = 'check')\n",
        "display(loadingBtn)\n",
        "\n",
        "if not os.path.exists(\"/opt/python3.7\"):\n",
        "  get_ipython().system_raw(\"rm -rf /content/sample_data/ && sudo apt update && sudo apt install software-properties-common\")\n",
        "  get_ipython().system_raw(\"sudo add-apt-repository ppa:deadsnakes/ppa\")\n",
        "  get_ipython().system_raw(\"sudo apt install python3.7\")\n",
        "  get_ipython().system_raw(\"sudo apt install python3-pip\")\n",
        "  get_ipython().system_raw(\"python3.7 -m pip install --upgrade pip setuptools wheel\")\n",
        "  get_ipython().system_raw(\"git clone https://github.com/RedaElmar/SScourses-DL.git /root/.SScourses-DL\")\n",
        "  get_ipython().system_raw(\"rm -r /root/.SScourses-DL/SSnotebook.ipynb\")\n",
        "  clear_output()\n",
        "\n",
        "try:\n",
        "  get_ipython().system_raw(\"python3.7 -m pip -q install -r /root/.SScourses-DL/requirements.txt\")\n",
        "  display(HTML(\"<center><h2 style=\\\"font-family:Trebuchet MS;color:#4f8bd6;\\\">Successfully Configured!</h2><br></center>\"))\n",
        "  \n",
        "except:\n",
        "  display(HTML(\"<center><h2 style=\\\"font-family:Trebuchet MS;color:#ff0000;\\\">Error Occured, Rerun the Cell!!</h2><br></center>\"))"
      ],
      "execution_count": null,
      "outputs": []
    },
    {
      "cell_type": "code",
      "metadata": {
        "id": "egkRBWPtpcuf",
        "cellView": "form"
      },
      "source": [
        "#@markdown <h3>⬅️ Run this Cell to Download Skillshare Course</h3>\n",
        "Course_Link = \"https://www.skillshare.com/classes/Essentials-of-Data-Science/1521508928?via=similar-classes\" #@param {type:\"string\"}\n",
        "!python3.7 /root/.SScourses-DL/dl.py \"$Course_Link\" \"$cookie\""
      ],
      "execution_count": null,
      "outputs": []
    },
    {
      "cell_type": "code",
      "metadata": {
        "cellView": "form",
        "id": "-qxGKJmru2-Q"
      },
      "source": [
        "#@markdown <h3>⬅️ Run This Cell to  Move Downloaded Courses to Gdrive\n",
        "!mv /content/data \"/content/drive/My Drive/SScourses-DL\""
      ],
      "execution_count": null,
      "outputs": []
    }
  ]
}